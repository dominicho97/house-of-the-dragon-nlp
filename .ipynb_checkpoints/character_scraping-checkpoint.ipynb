{
 "cells": [
  {
   "cell_type": "code",
   "execution_count": 1,
   "id": "74f993c0-9c95-42bd-aff0-fc052a0b57a8",
   "metadata": {},
   "outputs": [],
   "source": [
    "import pandas as pd\n",
    "import time\n",
    "from selenium import webdriver\n",
    "from webdriver_manager.chrome import ChromeDriverManager\n",
    "from selenium.webdriver.common.by import By\n",
    "from selenium.webdriver.chrome.service import Service\n",
    "from selenium.webdriver.chrome.options import Options\n",
    "from selenium.webdriver.common.by import By\n"
   ]
  },
  {
   "cell_type": "code",
   "execution_count": 4,
   "id": "bd9d86cb-b7f8-4496-94b8-620d7a697e86",
   "metadata": {},
   "outputs": [],
   "source": [
    "webdriver_service = Service(ChromeDriverManager().install())"
   ]
  },
  {
   "cell_type": "code",
   "execution_count": 5,
   "id": "09f5aa08-0358-446a-b6ab-e71910406d62",
   "metadata": {},
   "outputs": [],
   "source": [
    "driver = webdriver.Chrome(service = webdriver_service)"
   ]
  },
  {
   "cell_type": "code",
   "execution_count": 6,
   "id": "ba6cac25-71c7-487c-898c-0022213b6d24",
   "metadata": {},
   "outputs": [],
   "source": [
    "page_url = \"https://gameofthrones.fandom.com/wiki/Category:HotD/Living_individuals\"\n",
    "driver.get(page_url)"
   ]
  },
  {
   "cell_type": "code",
   "execution_count": 12,
   "id": "6c2c09c5-2b49-49ed-abe3-992cc3499a62",
   "metadata": {},
   "outputs": [
    {
     "ename": "NoSuchElementException",
     "evalue": "Message: no such element: Unable to locate element: {\"method\":\"xpath\",\"selector\":\"//div[text()=\"ACCEPT\"]\"}\n  (Session info: chrome=104.0.5112.102)\nStacktrace:\nBacktrace:\n\tOrdinal0 [0x004978B3+2193587]\n\tOrdinal0 [0x00430681+1771137]\n\tOrdinal0 [0x003441A8+803240]\n\tOrdinal0 [0x003724A0+992416]\n\tOrdinal0 [0x0037273B+993083]\n\tOrdinal0 [0x0039F7C2+1177538]\n\tOrdinal0 [0x0038D7F4+1103860]\n\tOrdinal0 [0x0039DAE2+1170146]\n\tOrdinal0 [0x0038D5C6+1103302]\n\tOrdinal0 [0x003677E0+948192]\n\tOrdinal0 [0x003686E6+952038]\n\tGetHandleVerifier [0x00740CB2+2738370]\n\tGetHandleVerifier [0x007321B8+2678216]\n\tGetHandleVerifier [0x005217AA+512954]\n\tGetHandleVerifier [0x00520856+509030]\n\tOrdinal0 [0x0043743B+1799227]\n\tOrdinal0 [0x0043BB68+1817448]\n\tOrdinal0 [0x0043BC55+1817685]\n\tOrdinal0 [0x00445230+1856048]\n\tBaseThreadInitThunk [0x7577FA29+25]\n\tRtlGetAppContainerNamedObjectPath [0x77377A9E+286]\n\tRtlGetAppContainerNamedObjectPath [0x77377A6E+238]\n",
     "output_type": "error",
     "traceback": [
      "\u001b[1;31m---------------------------------------------------------------------------\u001b[0m",
      "\u001b[1;31mNoSuchElementException\u001b[0m                    Traceback (most recent call last)",
      "Input \u001b[1;32mIn [12]\u001b[0m, in \u001b[0;36m<cell line: 2>\u001b[1;34m()\u001b[0m\n\u001b[0;32m      1\u001b[0m time\u001b[38;5;241m.\u001b[39msleep(\u001b[38;5;241m3\u001b[39m)\n\u001b[1;32m----> 2\u001b[0m \u001b[43mdriver\u001b[49m\u001b[38;5;241;43m.\u001b[39;49m\u001b[43mfind_element\u001b[49m\u001b[43m(\u001b[49m\u001b[43mBy\u001b[49m\u001b[38;5;241;43m.\u001b[39;49m\u001b[43mXPATH\u001b[49m\u001b[43m,\u001b[49m\u001b[43m \u001b[49m\u001b[38;5;124;43m'\u001b[39;49m\u001b[38;5;124;43m//div[text()=\u001b[39;49m\u001b[38;5;124;43m\"\u001b[39;49m\u001b[38;5;124;43mACCEPT\u001b[39;49m\u001b[38;5;124;43m\"\u001b[39;49m\u001b[38;5;124;43m]\u001b[39;49m\u001b[38;5;124;43m'\u001b[39;49m\u001b[43m)\u001b[49m\u001b[38;5;241m.\u001b[39mclick()\n",
      "File \u001b[1;32m~\\AppData\\Local\\Programs\\Python\\Python310\\lib\\site-packages\\selenium\\webdriver\\remote\\webdriver.py:855\u001b[0m, in \u001b[0;36mWebDriver.find_element\u001b[1;34m(self, by, value)\u001b[0m\n\u001b[0;32m    852\u001b[0m     by \u001b[38;5;241m=\u001b[39m By\u001b[38;5;241m.\u001b[39mCSS_SELECTOR\n\u001b[0;32m    853\u001b[0m     value \u001b[38;5;241m=\u001b[39m \u001b[38;5;124m'\u001b[39m\u001b[38;5;124m[name=\u001b[39m\u001b[38;5;124m\"\u001b[39m\u001b[38;5;132;01m%s\u001b[39;00m\u001b[38;5;124m\"\u001b[39m\u001b[38;5;124m]\u001b[39m\u001b[38;5;124m'\u001b[39m \u001b[38;5;241m%\u001b[39m value\n\u001b[1;32m--> 855\u001b[0m \u001b[38;5;28;01mreturn\u001b[39;00m \u001b[38;5;28;43mself\u001b[39;49m\u001b[38;5;241;43m.\u001b[39;49m\u001b[43mexecute\u001b[49m\u001b[43m(\u001b[49m\u001b[43mCommand\u001b[49m\u001b[38;5;241;43m.\u001b[39;49m\u001b[43mFIND_ELEMENT\u001b[49m\u001b[43m,\u001b[49m\u001b[43m \u001b[49m\u001b[43m{\u001b[49m\n\u001b[0;32m    856\u001b[0m \u001b[43m    \u001b[49m\u001b[38;5;124;43m'\u001b[39;49m\u001b[38;5;124;43musing\u001b[39;49m\u001b[38;5;124;43m'\u001b[39;49m\u001b[43m:\u001b[49m\u001b[43m \u001b[49m\u001b[43mby\u001b[49m\u001b[43m,\u001b[49m\n\u001b[0;32m    857\u001b[0m \u001b[43m    \u001b[49m\u001b[38;5;124;43m'\u001b[39;49m\u001b[38;5;124;43mvalue\u001b[39;49m\u001b[38;5;124;43m'\u001b[39;49m\u001b[43m:\u001b[49m\u001b[43m \u001b[49m\u001b[43mvalue\u001b[49m\u001b[43m}\u001b[49m\u001b[43m)\u001b[49m[\u001b[38;5;124m'\u001b[39m\u001b[38;5;124mvalue\u001b[39m\u001b[38;5;124m'\u001b[39m]\n",
      "File \u001b[1;32m~\\AppData\\Local\\Programs\\Python\\Python310\\lib\\site-packages\\selenium\\webdriver\\remote\\webdriver.py:428\u001b[0m, in \u001b[0;36mWebDriver.execute\u001b[1;34m(self, driver_command, params)\u001b[0m\n\u001b[0;32m    426\u001b[0m response \u001b[38;5;241m=\u001b[39m \u001b[38;5;28mself\u001b[39m\u001b[38;5;241m.\u001b[39mcommand_executor\u001b[38;5;241m.\u001b[39mexecute(driver_command, params)\n\u001b[0;32m    427\u001b[0m \u001b[38;5;28;01mif\u001b[39;00m response:\n\u001b[1;32m--> 428\u001b[0m     \u001b[38;5;28;43mself\u001b[39;49m\u001b[38;5;241;43m.\u001b[39;49m\u001b[43merror_handler\u001b[49m\u001b[38;5;241;43m.\u001b[39;49m\u001b[43mcheck_response\u001b[49m\u001b[43m(\u001b[49m\u001b[43mresponse\u001b[49m\u001b[43m)\u001b[49m\n\u001b[0;32m    429\u001b[0m     response[\u001b[38;5;124m'\u001b[39m\u001b[38;5;124mvalue\u001b[39m\u001b[38;5;124m'\u001b[39m] \u001b[38;5;241m=\u001b[39m \u001b[38;5;28mself\u001b[39m\u001b[38;5;241m.\u001b[39m_unwrap_value(\n\u001b[0;32m    430\u001b[0m         response\u001b[38;5;241m.\u001b[39mget(\u001b[38;5;124m'\u001b[39m\u001b[38;5;124mvalue\u001b[39m\u001b[38;5;124m'\u001b[39m, \u001b[38;5;28;01mNone\u001b[39;00m))\n\u001b[0;32m    431\u001b[0m     \u001b[38;5;28;01mreturn\u001b[39;00m response\n",
      "File \u001b[1;32m~\\AppData\\Local\\Programs\\Python\\Python310\\lib\\site-packages\\selenium\\webdriver\\remote\\errorhandler.py:243\u001b[0m, in \u001b[0;36mErrorHandler.check_response\u001b[1;34m(self, response)\u001b[0m\n\u001b[0;32m    241\u001b[0m         alert_text \u001b[38;5;241m=\u001b[39m value[\u001b[38;5;124m'\u001b[39m\u001b[38;5;124malert\u001b[39m\u001b[38;5;124m'\u001b[39m]\u001b[38;5;241m.\u001b[39mget(\u001b[38;5;124m'\u001b[39m\u001b[38;5;124mtext\u001b[39m\u001b[38;5;124m'\u001b[39m)\n\u001b[0;32m    242\u001b[0m     \u001b[38;5;28;01mraise\u001b[39;00m exception_class(message, screen, stacktrace, alert_text)  \u001b[38;5;66;03m# type: ignore[call-arg]  # mypy is not smart enough here\u001b[39;00m\n\u001b[1;32m--> 243\u001b[0m \u001b[38;5;28;01mraise\u001b[39;00m exception_class(message, screen, stacktrace)\n",
      "\u001b[1;31mNoSuchElementException\u001b[0m: Message: no such element: Unable to locate element: {\"method\":\"xpath\",\"selector\":\"//div[text()=\"ACCEPT\"]\"}\n  (Session info: chrome=104.0.5112.102)\nStacktrace:\nBacktrace:\n\tOrdinal0 [0x004978B3+2193587]\n\tOrdinal0 [0x00430681+1771137]\n\tOrdinal0 [0x003441A8+803240]\n\tOrdinal0 [0x003724A0+992416]\n\tOrdinal0 [0x0037273B+993083]\n\tOrdinal0 [0x0039F7C2+1177538]\n\tOrdinal0 [0x0038D7F4+1103860]\n\tOrdinal0 [0x0039DAE2+1170146]\n\tOrdinal0 [0x0038D5C6+1103302]\n\tOrdinal0 [0x003677E0+948192]\n\tOrdinal0 [0x003686E6+952038]\n\tGetHandleVerifier [0x00740CB2+2738370]\n\tGetHandleVerifier [0x007321B8+2678216]\n\tGetHandleVerifier [0x005217AA+512954]\n\tGetHandleVerifier [0x00520856+509030]\n\tOrdinal0 [0x0043743B+1799227]\n\tOrdinal0 [0x0043BB68+1817448]\n\tOrdinal0 [0x0043BC55+1817685]\n\tOrdinal0 [0x00445230+1856048]\n\tBaseThreadInitThunk [0x7577FA29+25]\n\tRtlGetAppContainerNamedObjectPath [0x77377A9E+286]\n\tRtlGetAppContainerNamedObjectPath [0x77377A6E+238]\n"
     ]
    }
   ],
   "source": [
    "\n",
    "time.sleep(3)\n",
    "driver.find_element(By.XPATH, '//div[text()=\"ACCEPT\"]').click()"
   ]
  },
  {
   "cell_type": "code",
   "execution_count": null,
   "id": "f8c04cdb-15dc-4dff-855a-0852d8543e2c",
   "metadata": {},
   "outputs": [],
   "source": [
    "# Find characters\n",
    "series_characters = driver.find_elements(by=By.CLASS_NAME, value='category-page__member-link')\n",
    "\n",
    "characters = []\n",
    "for character in series_characters:\n",
    "    character_url = character.get_attribute('href')\n",
    "    character_name = character.text\n",
    "    characters.append({'character_name': character_name, \"url\": character_url})"
   ]
  },
  {
   "cell_type": "code",
   "execution_count": null,
   "id": "2808e8b9-726f-4a1f-b914-4ad2c4191d49",
   "metadata": {},
   "outputs": [],
   "source": []
  },
  {
   "cell_type": "code",
   "execution_count": null,
   "id": "99de6845-b864-4aaa-ac2b-6e61f917d5af",
   "metadata": {},
   "outputs": [],
   "source": []
  }
 ],
 "metadata": {
  "kernelspec": {
   "display_name": "Python 3 (ipykernel)",
   "language": "python",
   "name": "python3"
  },
  "language_info": {
   "codemirror_mode": {
    "name": "ipython",
    "version": 3
   },
   "file_extension": ".py",
   "mimetype": "text/x-python",
   "name": "python",
   "nbconvert_exporter": "python",
   "pygments_lexer": "ipython3",
   "version": "3.10.4"
  }
 },
 "nbformat": 4,
 "nbformat_minor": 5
}
