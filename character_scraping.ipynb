{
 "cells": [
  {
   "cell_type": "code",
   "execution_count": 1,
   "id": "74f993c0-9c95-42bd-aff0-fc052a0b57a8",
   "metadata": {},
   "outputs": [],
   "source": [
    "import pandas as pd\n",
    "import time\n",
    "from selenium import webdriver\n",
    "from webdriver_manager.chrome import ChromeDriverManager\n",
    "from selenium.webdriver.common.by import By\n",
    "from selenium.webdriver.chrome.service import Service\n",
    "from selenium.webdriver.chrome.options import Options\n"
   ]
  },
  {
   "cell_type": "code",
   "execution_count": 4,
   "id": "bd9d86cb-b7f8-4496-94b8-620d7a697e86",
   "metadata": {},
   "outputs": [],
   "source": [
    "webdriver_service = Service(ChromeDriverManager().install())"
   ]
  },
  {
   "cell_type": "code",
   "execution_count": 5,
   "id": "09f5aa08-0358-446a-b6ab-e71910406d62",
   "metadata": {},
   "outputs": [],
   "source": [
    "driver = webdriver.Chrome(service = webdriver_service)"
   ]
  },
  {
   "cell_type": "code",
   "execution_count": 6,
   "id": "ba6cac25-71c7-487c-898c-0022213b6d24",
   "metadata": {},
   "outputs": [],
   "source": [
    "page_url = \"https://gameofthrones.fandom.com/wiki/Category:HotD/Living_individuals\"\n",
    "driver.get(page_url)"
   ]
  },
  {
   "cell_type": "code",
   "execution_count": null,
   "id": "6c2c09c5-2b49-49ed-abe3-992cc3499a62",
   "metadata": {},
   "outputs": [],
   "source": [
    "from selenium.webdriver.common.by import By\n",
    "\n",
    "driver.find_element(By.XPATH, '//div[text()=\"ACCEPT\"]').click()"
   ]
  }
 ],
 "metadata": {
  "kernelspec": {
   "display_name": "Python 3 (ipykernel)",
   "language": "python",
   "name": "python3"
  },
  "language_info": {
   "codemirror_mode": {
    "name": "ipython",
    "version": 3
   },
   "file_extension": ".py",
   "mimetype": "text/x-python",
   "name": "python",
   "nbconvert_exporter": "python",
   "pygments_lexer": "ipython3",
   "version": "3.10.4"
  }
 },
 "nbformat": 4,
 "nbformat_minor": 5
}
